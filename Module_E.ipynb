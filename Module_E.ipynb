{
  "nbformat": 4,
  "nbformat_minor": 0,
  "metadata": {
    "colab": {
      "provenance": [],
      "toc_visible": true,
      "authorship_tag": "ABX9TyMB8NyJ4ov4PXtb290nappU",
      "include_colab_link": true
    },
    "kernelspec": {
      "name": "python3",
      "display_name": "Python 3"
    },
    "language_info": {
      "name": "python"
    }
  },
  "cells": [
    {
      "cell_type": "markdown",
      "metadata": {
        "id": "view-in-github",
        "colab_type": "text"
      },
      "source": [
        "<a href=\"https://colab.research.google.com/github/jeffreygalle/MAT421/blob/main/Module_E.ipynb\" target=\"_parent\"><img src=\"https://colab.research.google.com/assets/colab-badge.svg\" alt=\"Open In Colab\"/></a>"
      ]
    },
    {
      "cell_type": "markdown",
      "source": [
        "# 3.2 Continunity and Differentiation\n",
        "\n",
        "Limit Definition 3.2.1:\n",
        "Let f(x) be a function defined on an open interval containing x=c, except possibly at x=c itself. Then, we say that the limit of f(x) as x approaches c is L, denoted as:\n",
        "\\lim_{{x \\to c}} f(x) = L\n",
        "if for every number ε>0 there exists a number δ>0 such that for all x satisfying 0 <|x-c| <δ, the inequality |f(x) - L| < ε holds.\n",
        "\n",
        "Below is an example of how to find a limit in Python using sympy"
      ],
      "metadata": {
        "id": "_-Uqm5OngrYK"
      }
    },
    {
      "cell_type": "code",
      "source": [
        "from sympy import symbols, limit\n",
        "x = symbols('x')\n",
        "f = x**2 - 4\n",
        "\n",
        "lim_2 = limit(f, x, 2)\n",
        "print(\"Limit as x approaches 2:\", lim_2)\n"
      ],
      "metadata": {
        "colab": {
          "base_uri": "https://localhost:8080/"
        },
        "id": "yrj839lOiMTO",
        "outputId": "64c65452-4353-416f-ffab-d37199f09429"
      },
      "execution_count": 1,
      "outputs": [
        {
          "output_type": "stream",
          "name": "stdout",
          "text": [
            "Limit as x approaches 2: 0\n"
          ]
        }
      ]
    },
    {
      "cell_type": "markdown",
      "source": [
        "Definition 3.2.1 (Limits of a function):\n",
        "A function is considered continuous at a point c if the following three conditions are met:\n",
        "\n",
        "1. The function is defined at c.\n",
        "2. The limit of the function as x approaches c exists.\n",
        "3. The limit of the function as x approaches c is equal to the value of the function at c.\n"
      ],
      "metadata": {
        "id": "cPDfD4GYj5eN"
      }
    },
    {
      "cell_type": "markdown",
      "source": [
        "Definition 3.2.4 (Extremum):\n",
        "The extrama refers to the maximum or minimum value of a function, within a certain interval or on the entire domain of the function.\n",
        "Two main types of extrema:\n",
        "1. Absolute: The absolute maximum or minimum value of a function f(x) over the domain.\n",
        "2. Local: The local maximum or minimum value of a function f(x) within a specified interval.\n"
      ],
      "metadata": {
        "id": "sU2vmie_lNML"
      }
    },
    {
      "cell_type": "markdown",
      "source": [
        "# 3.2.2 Derivatives\n",
        "\n",
        "Definition 3.2.6 (Derivative):\n",
        "The derivative of a function f(x) at a point x =a is given by the following limit:\n",
        "\n",
        "f'(a) = \\lim_{{h \\to 0}} \\frac{{f(a + h) - f(a)}}{h}\n",
        "\n",
        "If the limit exists, it represents the instantaneous rate of change of f(x) at x = a.\n",
        "Below is an example of how to compute a a derivative in Python using sympy"
      ],
      "metadata": {
        "id": "vNaT4uP3luHu"
      }
    },
    {
      "cell_type": "markdown",
      "source": [],
      "metadata": {
        "id": "J337jk3Kmqq9"
      }
    },
    {
      "cell_type": "code",
      "source": [
        "from sympy import symbols, cos, diff\n",
        "\n",
        "# Define the variable and the function\n",
        "x = symbols('x')\n",
        "f = -cos(x)\n",
        "f_prime = diff(f, x)\n",
        "print(\"The derivative of f(x) =\", f_prime)\n"
      ],
      "metadata": {
        "colab": {
          "base_uri": "https://localhost:8080/"
        },
        "id": "3dO6Mw9akEAW",
        "outputId": "6c5a8f78-625f-41bd-9c13-361528f4f66b"
      },
      "execution_count": 7,
      "outputs": [
        {
          "output_type": "stream",
          "name": "stdout",
          "text": [
            "The derivative of f(x) = sin(x)\n"
          ]
        }
      ]
    },
    {
      "cell_type": "markdown",
      "source": [
        "# 3.2.2.2 General Case\n",
        "\n",
        "Definition 3.2.11 (Partial Derivative):\n",
        "Let f(x1, x2, ..., xn) be a function of n variables. The partial derivative of f with respect to the variable xi, denoted as ∂f/∂xi, is defined as:\n",
        "\n",
        "\\frac{\\partial f}{\\partial x_i} = \\lim_{{h \\to 0}} \\frac{{f(x_1, x_2, \\ldots, x_i + h, \\ldots, x_n) - f(x_1, x_2, \\ldots, x_i, \\ldots, x_n)}}{h}\n",
        "\n",
        "The partial derivative of of f with respect to xi measures the rate of change of f with respect to xi, while other variables are treated as constants.\n",
        "\n",
        "Below is an example of partial differentation in Python using sympy.\n",
        "\n"
      ],
      "metadata": {
        "id": "VDFDUmUKnTEu"
      }
    },
    {
      "cell_type": "code",
      "source": [
        "from sympy import symbols, diff, sin, cos\n",
        "\n",
        "x, y = symbols('x y')\n",
        "\n",
        "f = sin(x) * cos(y) + x*y\n",
        "\n",
        "partial_derivative_x = diff(f, x)\n",
        "\n",
        "partial_derivative_y = diff(f, y)\n",
        "\n",
        "# Print the partial derivatives\n",
        "print(\"Partial derivative of f with respect to x:\", partial_derivative_x)\n",
        "print(\"Partial derivative of f with respect to y:\", partial_derivative_y)\n"
      ],
      "metadata": {
        "colab": {
          "base_uri": "https://localhost:8080/"
        },
        "id": "6znilsACpYIM",
        "outputId": "1b5c3e56-6401-4c4f-f747-3837f5fab38c"
      },
      "execution_count": 8,
      "outputs": [
        {
          "output_type": "stream",
          "name": "stdout",
          "text": [
            "Partial derivative of f with respect to x: y + cos(x)*cos(y)\n",
            "Partial derivative of f with respect to y: x - sin(x)*sin(y)\n"
          ]
        }
      ]
    },
    {
      "cell_type": "markdown",
      "source": [
        "# 3.2.2.3 Further Derivatives\n",
        "\n",
        "Definition 3.2.16 (Directional Derivative):\n",
        "Measures how a function changes at a given point in space as one moves in a specified direction. It shows the rate of change of a function along a particular path or direction.\n",
        "\n",
        "Example: given a function f(x, y) = x^2 + y^2, to compute the directional derivative at the point (1, 1) in the direction of the unit vector (1/sqrt(2), 1/sqrt(2))"
      ],
      "metadata": {
        "id": "xcQl2Ct5piu0"
      }
    },
    {
      "cell_type": "code",
      "source": [
        "from sympy import symbols, diff, sqrt\n",
        "\n",
        "x, y = symbols('x y')\n",
        "f = x**2 + y**2\n",
        "\n",
        "x0, y0 = 1, 1\n",
        "a, b = 1/sqrt(2), 1/sqrt(2)\n",
        "\n",
        "df_dx = diff(f, x)\n",
        "df_dy = diff(f, y)\n",
        "\n",
        "directional_derivative = df_dx.subs({x: x0, y: y0}) * a + df_dy.subs({x: x0, y: y0}) * b\n",
        "\n",
        "print(\"Directional derivative of f at the point (1, 1) in the direction of the vector (1/sqrt(2), 1/sqrt(2)):\")\n",
        "print(directional_derivative)\n"
      ],
      "metadata": {
        "colab": {
          "base_uri": "https://localhost:8080/"
        },
        "id": "yR8wcZ63q8I6",
        "outputId": "315ea572-ceb1-4c45-def9-0bd626f44433"
      },
      "execution_count": 9,
      "outputs": [
        {
          "output_type": "stream",
          "name": "stdout",
          "text": [
            "Directional derivative of f at the point (1, 1) in the direction of the vector (1/sqrt(2), 1/sqrt(2)):\n",
            "2*sqrt(2)\n"
          ]
        }
      ]
    },
    {
      "cell_type": "markdown",
      "source": [
        "Definition 3.2.18 (Second Partial Derivatives and Hessian):\n",
        "\n",
        "The second partial derivative of a function of two or more variables measures how the rate of change of the function with respect to one variable changes as the other variables change."
      ],
      "metadata": {
        "id": "5Qhfmq8TrPw_"
      }
    },
    {
      "cell_type": "markdown",
      "source": [
        "# 3.2.3 Taylor's Theorem\n",
        "\n",
        "Taylor's theorem states that if a function f(x) has derivatives of all orders in an open interval containing a point x = a, then the function can be approximated by a polynomial centered at x = a. This function is the Taylor polynomial."
      ],
      "metadata": {
        "id": "JNRInYKJrmzp"
      }
    },
    {
      "cell_type": "markdown",
      "source": [
        "# 3.3 Unconstrained Optimization\n",
        "\n"
      ],
      "metadata": {
        "id": "S3vd-AE9sTKz"
      }
    },
    {
      "cell_type": "markdown",
      "source": [
        "# 3.3.1 Necessary and Suﬀicent Conditions of Local Minimizers\n",
        "\n",
        "Definition 3.3.1 (Global minimizer):\n",
        "\n",
        "The set of points within the domain of a function where the function achieves its minimum value acorss its entire domain.\n"
      ],
      "metadata": {
        "id": "nut6NMGHscF_"
      }
    },
    {
      "cell_type": "markdown",
      "source": [
        "Definition 3.3.2 (Local minimizer):\n",
        "\n",
        "The set of points within the domain of a function where the function achieves its minimum value in a neighborhood around that point?"
      ],
      "metadata": {
        "id": "-IEB6Q0rs27Q"
      }
    },
    {
      "cell_type": "markdown",
      "source": [
        "Definition 3.3.3 (Descent Direction):\n",
        "The direction in which the objective function decreases. Given a function f(x) the descent direction is a direction in which we can move from the current point x to reduce the value of f(x)."
      ],
      "metadata": {
        "id": "4tGkvzrktbvs"
      }
    },
    {
      "cell_type": "markdown",
      "source": [
        "# 3.3.1.1 Suﬀicient conditions for Local Minimizers\n",
        "\n",
        "First Derivative Test:\n",
        "For the critical point x0, and f'(x0) = 0, then:\n",
        "- if f''(x0) > 0, then x0 is local min.\n",
        "- if f''(x0) < 0, then x0 is local max.\n",
        "- if f''(x0) = 0, inconclusive.\n",
        "\n",
        "Second Derivative Test:\n",
        "For the critical point x0, and f'(x0) = 0, then:\n",
        "- if f''(x0) > 0, then x0 is local min.\n",
        "- if f''(x0) < 0, then x0 is local max.\n",
        "- if f''(x0) = 0, inconclusive."
      ],
      "metadata": {
        "id": "5J_z0xdKt2U9"
      }
    },
    {
      "cell_type": "markdown",
      "source": [
        "# 3.3.2 Convexity and Global Minimizers\n",
        "\n",
        "Definition 3.3.11 (Convex Set):\n",
        "A set S is convex if it contains all the line segements that connect any two points in S. For any points x, y in S and any scalar λ with 0 ≤ λ ≤ 1, the point λx + (1 - λ)y is also in S."
      ],
      "metadata": {
        "id": "N-_MamyyvE_1"
      }
    },
    {
      "cell_type": "markdown",
      "source": [
        "Definition 3.3.13 (Convex Function):\n",
        "A function is convex when any two points pn its domain, the function value at the midpoint of the segment joining those points is less than or equal to the midpoint of the function values at the two points.\n",
        "\n",
        "Properties:\n",
        "- Every local minimum is also global minimum.\n",
        "- Unique global minima.\n",
        "- Smooth and have well-defined derivatives everywhere."
      ],
      "metadata": {
        "id": "JgTANC2JzAxt"
      }
    },
    {
      "cell_type": "markdown",
      "source": [
        "# 3.3.2.2 Global Minimizers of Convex Functions\n",
        "\n",
        "The global minimizer of a convex function is a point in the function's domain where the function attains minimum values. It is the point at which the convex function reaches its lowest value."
      ],
      "metadata": {
        "id": "F1TJmKJkzngL"
      }
    },
    {
      "cell_type": "markdown",
      "source": [
        "# 3.3.3 Gradient Descent\n",
        "\n",
        "Optimization algorithm used to minimize a differentiable function by iteratively moving in the direction of the negative gradient of the function."
      ],
      "metadata": {
        "id": "caSqZPM60KoR"
      }
    },
    {
      "cell_type": "markdown",
      "source": [
        "# 3.3.3.1 Steepest Descent\n",
        "\n",
        "Steepest Descent is an optimization technique used to minimize functions iteratively, it's a specific form of gradient descent. It works by moving in the direction of the negative gradient."
      ],
      "metadata": {
        "id": "daYAYiar1JfU"
      }
    }
  ]
}