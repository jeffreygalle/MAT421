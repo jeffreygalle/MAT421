{
  "nbformat": 4,
  "nbformat_minor": 0,
  "metadata": {
    "colab": {
      "provenance": [],
      "toc_visible": true,
      "authorship_tag": "ABX9TyNFrcPHEN42ZB8PhIBsTFoA",
      "include_colab_link": true
    },
    "kernelspec": {
      "name": "python3",
      "display_name": "Python 3"
    },
    "language_info": {
      "name": "python"
    }
  },
  "cells": [
    {
      "cell_type": "markdown",
      "metadata": {
        "id": "view-in-github",
        "colab_type": "text"
      },
      "source": [
        "<a href=\"https://colab.research.google.com/github/jeffreygalle/MAT421/blob/main/ModuleC_RootFinding.ipynb\" target=\"_parent\"><img src=\"https://colab.research.google.com/assets/colab-badge.svg\" alt=\"Open In Colab\"/></a>"
      ]
    },
    {
      "cell_type": "markdown",
      "source": [
        "## 19.1 Root Finding Problem Statement\n",
        "\n",
        "The root or zero of a function, *f(x)*, is an *a* such that *f(a)* = 0. Apart from functions such as *f(x) = x^2 - 9* with simple roots 3 and -3; there are many functions such as a *cos(x) = x* where there is not a closed form answer and thus the answer must be approximated using numerical methods."
      ],
      "metadata": {
        "id": "jBTWUEpW9K__"
      }
    },
    {
      "cell_type": "markdown",
      "source": [
        "The fsovle function in Python from SciPy uses a starting value to begin \"searching\" for the root of a function and iterates through different values until one is found that makes the function 0, or as close to zero as possible."
      ],
      "metadata": {
        "id": "G2c7L5H49Opx"
      }
    },
    {
      "cell_type": "code",
      "source": [
        "## fsolve examples\n",
        "import numpy as np\n",
        "from scipy import optimize\n",
        "\n",
        "# Finding the root for function f(x) = cos(x) - x\n",
        "# The function is a transcendental eqaution and so the the root is an\n",
        "# irrational number but we can see the solution is \"close enough.\"\n",
        "f = lambda x: np.cos(x) - x\n",
        "r = optimize.fsolve(f, -1)\n",
        "print(\"r =\", r)\n",
        "\n",
        "# Verify the solution is a root\n",
        "result = f(r)\n",
        "print(\"result=\", result)\n",
        "\n",
        "# Finding the root for function f(x) = sin(x) + 2\n",
        "# This function has no roots/solution because the sine of any angle goes from\n",
        "# -1 to 1, and the '2' always gives a result greater than 0.\n",
        "f = lambda x: np.sin(x) + 2\n",
        "#f = lambda x: 1/x\n",
        "r, infodict, ier, mesg = optimize.fsolve(f, -2, full_output=True)\n",
        "print(\"\\n\\nr =\", r)\n",
        "result = f(r)\n",
        "print(\"result=\", result)\n",
        "print(mesg)"
      ],
      "metadata": {
        "colab": {
          "base_uri": "https://localhost:8080/"
        },
        "id": "62G6j68Y9QuK",
        "outputId": "42ec7454-3537-480c-80e1-ec0a30ae3031"
      },
      "execution_count": 1,
      "outputs": [
        {
          "output_type": "stream",
          "name": "stdout",
          "text": [
            "r = [0.73908513]\n",
            "result= [0.]\n",
            "\n",
            "\n",
            "r = [-1.5709592]\n",
            "result= [1.00000001]\n",
            "The iteration is not making good progress, as measured by the \n",
            "  improvement from the last ten iterations.\n"
          ]
        }
      ]
    },
    {
      "cell_type": "markdown",
      "source": [
        "**Notice for the second function *sin(x) + 2* the message prints 'The iteration is not making good progress, as measured by the improvement from the last ten iterations' instead of explicity stating no solution, no roots, etc.**"
      ],
      "metadata": {
        "id": "8W4z3bQB9b0Z"
      }
    },
    {
      "cell_type": "markdown",
      "source": [
        "# 19.2 Tolerance\n",
        "\n",
        "For problems like *cos(x) - x* there is always some of error, the answer may not have an exact or analytic soltion. Tolerance sets the threshold for how much error is allowed.\n",
        "\n",
        "There are two common ways to measure error.\n",
        "\n",
        "\n",
        "1.   Examine how close the function's value is to zero\n",
        "  \n",
        "       - Examining how close zero the function's value is tells how close we are to finding the root.\n",
        "2.   Examine by how much the 'guesses' are improving with each iteration\n",
        "\n",
        "  - With each iteration, we calculate the difference between the current guess and the previous guess, i.e., |xi+1 - xi|. As the differential decreases and gets closer to zero, it tells us that the actual root of the function is getting close to being solved."
      ],
      "metadata": {
        "id": "eHW4jNMa9dmz"
      }
    },
    {
      "cell_type": "markdown",
      "source": [
        "# 19.3 Bisection Method\n",
        "\n",
        "The bisection method is one way we can find the roots of functions. It works off the Intermediate Value Theorem, that states that if you have a continuous function *f(x)* between two points *a* and *b*, and the function values at those points have opposite signs (one positive, another negative), then somewhere between *a* and *b*, there exists a point *c* where *f(c)* = 0.\n",
        "\n",
        "Given some points *a* and *b*, with *a* < *b*; and *f(a)* > 0 and *f(b)* < 0. There exists at least one root (zero) of the function between *a* and *b*.\n",
        "1.   Set up with midpoint, m: *m* = (*a+b*)/2.\n",
        "2.   Update the interval:\n",
        "- If *f(m)* > 0, then the root lies between *a* and *m*\n",
        "- If *f(m)* < 0, then the root lies between *m* and *b*\n",
        "3.   Repeat process by dividing the interval in half each iteration."
      ],
      "metadata": {
        "id": "CbY0_PB09geH"
      }
    },
    {
      "cell_type": "code",
      "source": [
        "# Bisection book example.\n",
        "import numpy as np\n",
        "def my_bisection(f, a, b, tol):\n",
        "  # approximates a root, R, of f bounded\n",
        "  # by a and b to within tolerance\n",
        "  # | f(m) | < tol with m being the midpoint # between a and b. Recursive implementation\n",
        "\n",
        "  # check if a and b bound a root\n",
        "  if np.sign(f(a)) == np.sign(f(b)):\n",
        "    raise Exception(\"The scalars a and b do not bound a root\")\n",
        "\n",
        "  # get midpoint\n",
        "  m = (a + b)/2\n",
        "\n",
        "  if np.abs(f(m)) < tol:\n",
        "    # stopping condition, report m as root\n",
        "    return m\n",
        "  elif np.sign(f(a)) == np.sign(f(m)):\n",
        "    # case where m is an improvement on a.\n",
        "    # Make recursive call with a = m\n",
        "    return my_bisection(f, m, b, tol)\n",
        "  elif np.sign(f(b)) == np.sign(f(m)):\n",
        "    # case where m is an improvement on b.\n",
        "    # Make recursive call with b = m\n",
        "    return my_bisection(f, a, m, tol)\n",
        "\n",
        "def f(x):\n",
        "  return x**2 - 2\n",
        "r1 = my_bisection(f, 0, 2, 0.1)\n",
        "print(\"r1 =\", r1)\n",
        "r01 = my_bisection(f, 0, 2, 0.00000001)\n",
        "print(\"r01 =\", r01)\n",
        "print(\"sqrt(2) =\", np.sqrt(2))\n",
        "print(\"f(r1) =\", f(r1))\n",
        "print(\"f(r01) =\", f(r01))\n"
      ],
      "metadata": {
        "colab": {
          "base_uri": "https://localhost:8080/"
        },
        "id": "ODIkbTUn9kBm",
        "outputId": "16611298-258e-4aaf-e624-5e4bab08e133"
      },
      "execution_count": 2,
      "outputs": [
        {
          "output_type": "stream",
          "name": "stdout",
          "text": [
            "r1 = 1.4375\n",
            "r01 = 1.4142135605216026\n",
            "sqrt(2) = 1.4142135623730951\n",
            "f(r1) = 0.06640625\n",
            "f(r01) = -5.236811428943611e-09\n"
          ]
        }
      ]
    },
    {
      "cell_type": "markdown",
      "source": [
        "# 19.4 Newton-Raphson Method\n",
        "The Newton-Raphson method is another way we can find the roots of functions. It works by finding better approximations to the roots iteratively.\n",
        "\n",
        "Process:\n",
        "\n",
        "\n",
        "1.   Tangent Line: Start with an intial guess x0, draw a tagent line to the f(x)'s curve at (x0, f(x0)).\n",
        "2.   x-axis intersection: Find the point where this tangent line intersects the x-axis, this point x1 is our next approximation to the root.\n",
        "3. New equation: x1 = x0 - f(x0)/f'(x0)\n",
        "4. Repeat the process now with (x1, f(x1)).. x2 is now next approximation to the root where x2 = x1 - f(x1)/f'(x1)"
      ],
      "metadata": {
        "id": "D71k4-MP9qH5"
      }
    },
    {
      "cell_type": "code",
      "source": [
        "# Example of Newton-Raphson method function\n",
        "import numpy as np\n",
        "def my_newton(f, df, x0, tol):\n",
        "  # output is an estimation of the root of f\n",
        "  # using the Newton-Raphson method # recursive implementation\n",
        "  if abs(f(x0)) < tol:\n",
        "    return x0\n",
        "  else:\n",
        "    return my_newton(f, df, x0 - f(x0)/df(x0), tol)\n",
        "\n",
        "f = lambda x: x**2 - 2\n",
        "f_prime = lambda x: 2*x\n",
        "newton_raphson = 1.4 - (f(1.4))/(f_prime(1.4))\n",
        "print(\"newton_raphson =\", newton_raphson)\n",
        "print(\"sqrt(2) =\", np.sqrt(2))\n",
        "#estimate = my_newton(f, f_prime, 1.5, 1e-6)\n",
        "#print(\"estimate =\", estimate)\n",
        "#print(\"sqrt(2) =\", np.sqrt(2))\n"
      ],
      "metadata": {
        "colab": {
          "base_uri": "https://localhost:8080/"
        },
        "id": "GEQOf-gM9sot",
        "outputId": "802b60bb-e52a-4711-d487-482597edf989"
      },
      "execution_count": 3,
      "outputs": [
        {
          "output_type": "stream",
          "name": "stdout",
          "text": [
            "newton_raphson = 1.4142857142857144\n",
            "sqrt(2) = 1.4142135623730951\n"
          ]
        }
      ]
    },
    {
      "cell_type": "markdown",
      "source": [
        "# **Question 1.**\n",
        "Write a function my_nth_root(x,n,tol) where x and tol are strictly positive scalars, and n is an integer strictly greater than 1. The output argument, r, should be an approximation r = the Nth root of x. This approximation should be computed by using the Newton-Raphson method to find the root of the function f (y) = y^N - x. The error metric should be |f (y)|."
      ],
      "metadata": {
        "id": "trzjwXL-9wwu"
      }
    },
    {
      "cell_type": "code",
      "source": [
        "import math\n",
        "def my_nth_root(x, n, tolerance, intial_guess = None):\n",
        "\n",
        "    # Initialize guess if not provided\n",
        "    if intial_guess is None:\n",
        "        intial_guess = x / 2.0\n",
        "\n",
        "    # Newton-Raphson iteration\n",
        "    y = intial_guess - (intial_guess ** n - x) / (n * intial_guess ** (n - 1))\n",
        "\n",
        "        # Error metric |f(y)|\n",
        "    error = abs(y ** n - x)\n",
        "\n",
        "    # Check if the error is within tolerance\n",
        "    if error < tolerance:\n",
        "      return y  # Return the approximation if error is acceptable\n",
        "\n",
        "    return my_nth_root(x, n, tolerance, y)\n",
        "\n",
        "\n",
        "# Example\n",
        "x = 64\n",
        "n = 3\n",
        "tolerance = 0.000001\n",
        "\n",
        "# Approximate the cube root of 64 using the my_nth_root\n",
        "approximation = my_nth_root(x, n, tolerance)\n",
        "print(\"Approximation of the cube root of\", x, \"is:\", approximation)\n",
        "print(\"Using math.pow(x, 1/n):\", math.pow(x, 1/n))\n"
      ],
      "metadata": {
        "colab": {
          "base_uri": "https://localhost:8080/"
        },
        "id": "LkonQk0t9x5P",
        "outputId": "0a20c86a-7cca-4a6b-95d9-7cf0516c92b2"
      },
      "execution_count": 4,
      "outputs": [
        {
          "output_type": "stream",
          "name": "stdout",
          "text": [
            "Approximation of the cube root of 64 is: 4.000000000020845\n",
            "Using math.pow(x, 1/n): 3.9999999999999996\n"
          ]
        }
      ]
    },
    {
      "cell_type": "markdown",
      "source": [
        "# **Question 7.**  \n",
        "Find a function f (x) and guess the root of f , namely x0, such that the Newton-Raphson method will oscillate between x0 and −x0 indefinitely.\n",
        "\n",
        "To oscillate between x0 and -x0 the derivative of the function needs to be zero at both x0 and -x0. A function with these properties is\n",
        "\n",
        "f(x) = (x-1)^2*(x+1)\n",
        "f'(x) = 3x^2 - 2x -1\n",
        "f'(1) = 0 and f'(-1) = 0\n",
        "\n",
        "Using f(x) with the intial guess of x0 = 1, the Newton-Raphson method will oscillate between x0 and -x0."
      ],
      "metadata": {
        "id": "d12diY6v90kj"
      }
    }
  ]
}