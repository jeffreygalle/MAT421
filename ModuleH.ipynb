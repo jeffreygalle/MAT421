{
  "nbformat": 4,
  "nbformat_minor": 0,
  "metadata": {
    "colab": {
      "provenance": [],
      "authorship_tag": "ABX9TyOFP7mZmLJJ26UUlZ5xg0cE",
      "include_colab_link": true
    },
    "kernelspec": {
      "name": "python3",
      "display_name": "Python 3"
    },
    "language_info": {
      "name": "python"
    }
  },
  "cells": [
    {
      "cell_type": "markdown",
      "metadata": {
        "id": "view-in-github",
        "colab_type": "text"
      },
      "source": [
        "<a href=\"https://colab.research.google.com/github/jeffreygalle/MAT421/blob/main/ModuleH.ipynb\" target=\"_parent\"><img src=\"https://colab.research.google.com/assets/colab-badge.svg\" alt=\"Open In Colab\"/></a>"
      ]
    },
    {
      "cell_type": "markdown",
      "source": [
        "# 22.1 ODE INITIAL VALUE PROBLEM STATEMENT\n",
        "\n",
        "\n",
        "Types of Differential Equations:\n",
        "\n",
        "1. Ordinary Differential Equations (ODEs): Involves a single independent variable and the derivatives for it.\n",
        "2. Partial Differential Equations (PDEs): Involves multiple independent variables and the partial derivatives for it.\n",
        "\n",
        "Types of Solutions:\n",
        "\n",
        "A **general solution** to a differential equation is a function that satisfies the differential equation *without* specific initial conditions.\n",
        "\n",
        "A **particular solution** is more specific than general solutions, satisfying the differential equation along with certain conditions (e.g. known values, derivatives at specific points.)\n",
        "\n",
        "An **analytical solution** is a precise expression that fulfills the differential equation and any initial conditions.\n",
        "\n",
        "A **numerical solution** *approximates* the function using discrete points or a numerical grid, when an analytical solution is challenging or imposible to find.\n"
      ],
      "metadata": {
        "id": "LuNSYAGHNimO"
      }
    },
    {
      "cell_type": "markdown",
      "source": [
        "# 22.2 REDUCTION OF ORDER\n",
        "\n",
        "Reduction of order is a technique used to transform higher-order ordinary differential equations (ODEs) into first-order ODEs.\n",
        "\n",
        "The book explores many numerical methods for solving first-order differential equations. Applying these methods to higher-order ODEs, it is necessary to reduce the order of the differential equation.\n",
        "\n",
        "State Vector: The state vector S(t), is the system's state at any time t.\n",
        "\n",
        "Formulating: Expressing it as a state vector S(t), the derivative S(t)/dt can be described using the function F such that dS(t)/dt = F(t, S(t)). This converts the nth order ODE into a system of n coupled first order ODE. Being couples means the equations are interconnected though terms shared between the two.\n",
        "\n",
        "Retention: Even though the state vector, S(t) all derivatives still remain with respect to a single independent variable, t."
      ],
      "metadata": {
        "id": "flCTKFzjPSGX"
      }
    },
    {
      "cell_type": "markdown",
      "source": [
        "# 22.3 THE EULER METHOD\n",
        "\n",
        "This section focuses on three Euler methods for solving initial value problems for ordinary differential equations.\n",
        "\n",
        "1. Explicit Euler Formula.\n",
        "This formula is explicit because the next step is computed directly from the known information at tj.\n",
        "Given by S(t_j+1) = S(t_j) + hF(t_j, S(t_j)).\n",
        "\n",
        "Starting from an initial value S0 = S(t0), it uses the derivative at the current step (tj) to estimate the state at the next step (t_j+1).\n",
        "\n",
        "\n",
        "Has an local error of O(h^2) per step making it a first-order method.\n",
        "\n",
        "2. Implicit Euler Formula\n",
        "\n",
        "This formula is implicit because it uses the derivative at the next step (t_j+1), since it required solving an equation to find S(t_j+1).\n",
        "\n",
        "Given by S(t_j+1) = S(t_j) + hF(t_j+1, S(t_j+1)).\n",
        "\n",
        "3. Trapezoidal Formula\n",
        "\n",
        "Given by S(t_j+1) = S(t_j) + h/2(F(t_j, S(t_j)) + F(t_j+1, S(t_j+1)))\n",
        "\n",
        "\n",
        "The trapezoidal formula offers a compromise between the Euler explicit and implicit methods. The trapezoidal formula uses both the derivative at the current step and an estimate of the derivative at the next step.\n",
        "\n",
        "Has an local error of O(h^3) per step making it a second-order method.\n"
      ],
      "metadata": {
        "id": "KGoCRk2xUJeD"
      }
    },
    {
      "cell_type": "code",
      "source": [],
      "metadata": {
        "id": "wSuHMb9cOA42"
      },
      "execution_count": null,
      "outputs": []
    }
  ]
}