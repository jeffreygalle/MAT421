{
  "nbformat": 4,
  "nbformat_minor": 0,
  "metadata": {
    "colab": {
      "provenance": [],
      "authorship_tag": "ABX9TyMZrZiL69G0G/xrM5mys93N",
      "include_colab_link": true
    },
    "kernelspec": {
      "name": "python3",
      "display_name": "Python 3"
    },
    "language_info": {
      "name": "python"
    }
  },
  "cells": [
    {
      "cell_type": "markdown",
      "metadata": {
        "id": "view-in-github",
        "colab_type": "text"
      },
      "source": [
        "<a href=\"https://colab.research.google.com/github/jeffreygalle/MAT421/blob/main/Module_G.ipynb\" target=\"_parent\"><img src=\"https://colab.research.google.com/assets/colab-badge.svg\" alt=\"Open In Colab\"/></a>"
      ]
    },
    {
      "cell_type": "markdown",
      "source": [
        "# 21.1 NUMERICAL INTEGRATION PROBLEM STATEMENT\n",
        "To approximate the integral of a function f(x) over an interval [a, b] it involves:\n",
        "\n",
        "1. Discretizing the interval into n+1 evenly spaced points, creating n **subintervals**.\n",
        "2. Evaluating the function f(x) at these points or using the given values f(xi).\n",
        "3. Approximating the area under f(x) for each subinterval using a chosen method.\n",
        "4. Summing these approximations to get the total area under the curve over [a,b].\n"
      ],
      "metadata": {
        "id": "A3ku5_D8tac2"
      }
    },
    {
      "cell_type": "markdown",
      "source": [
        "# 21.2 RIEMANN INTEGRAL\n",
        "The Riemann Integral approximation method approximates the area under a curve by summing up the areas of multiple rectangles across the interval. Each rectangle's width is constant, denoted as h, which is the distance between any two consecutive points (x_i+1 -x_i). And the height of each rectangle is determined by the function value at either the left or right end points of the subinterval.\n",
        "\n",
        "\n",
        "\n",
        "The Midpoint Rule improves upon the Riemann Integral approximation by taking the height of each rectangle to be the function value at the midpoint of each subinterval, instead of an endpoint. The Midpoint rule provides better accuracy than Riemann without requiring more function evaluations.\n",
        "\n",
        "\n",
        "The accuracy of these methods depends on the size of h, the width of the subintervals. As h decreases, the approximation becomes more accurate."
      ],
      "metadata": {
        "id": "hq3Ar7oHwa1U"
      }
    },
    {
      "cell_type": "code",
      "source": [
        "# Example\n",
        "# Use the left and right Riemann integral, as well as midpoint rule, to approximate the integral of sin(x) from 0 to pi.\n",
        "import numpy as np\n",
        "a=0\n",
        "b = np.pi\n",
        "n = 11\n",
        "h = (b - a) / (n - 1)\n",
        "x = np.linspace(a, b, n)\n",
        "f = np.sin(x)\n",
        "\n",
        "I_riemannL = h * sum(f[:n-1])\n",
        "err_riemannL = 2 - I_riemannL\n",
        "\n",
        "I_riemannR = h * sum(f[1::])\n",
        "err_riemannR = 2 - I_riemannR\n",
        "\n",
        "I_mid = h * sum(np.sin((x[:n-1] + x[1:])/2))\n",
        "err_mid = 2 - I_mid\n",
        "\n",
        "print(I_riemannL)\n",
        "print(err_riemannL)\n",
        "print(I_riemannR)\n",
        "print(err_riemannR)\n",
        "print(I_mid)\n",
        "print(err_mid)"
      ],
      "metadata": {
        "colab": {
          "base_uri": "https://localhost:8080/"
        },
        "id": "xTG1A1Ftxdvf",
        "outputId": "2ce0c7e8-9ebb-4175-ff79-2ceaaed2093d"
      },
      "execution_count": 3,
      "outputs": [
        {
          "output_type": "stream",
          "name": "stdout",
          "text": [
            "1.9835235375094546\n",
            "0.01647646249054535\n",
            "1.9835235375094546\n",
            "0.01647646249054535\n",
            "2.0082484079079745\n",
            "-0.008248407907974542\n"
          ]
        }
      ]
    },
    {
      "cell_type": "markdown",
      "source": [
        "# 21.3 TRAPEZOID RULE\n",
        "\n",
        "This final method works by dividing the interval into smaller subintervals, then fitting a trapezoid under the curve of the function for each subinterval, and finally summing the areas of these trapezoids to estimate the total integral\n",
        "\n",
        "\n",
        "1. Divide into subintervals: Divide into smaller, equally spaced subintervals. This division helps simplify the function's curve into segments.\n",
        "2. Fitting trapezoids: With each subinterval, a trapezoid is fitted so that its top edge approximates the segment of the function curve above that subinterval.\n",
        "3. Area Calculation: The area of each trapezoid is calculated using the formula for the area of a trapezoid, 1/2(b1+b2)h, where b1 and b2 are the lengths of the parallel sides, and h is the distance between these sides (the width of the subinterval.)\n",
        "4. Summation of Areas: The areas of all trapezoids are summed to approximate the total area under the curve, which is the integral."
      ],
      "metadata": {
        "id": "dX3r8lwhxWIB"
      }
    },
    {
      "cell_type": "code",
      "source": [
        "# Example use the trapezoid rule to approximate the integral of sin(x) from 0 to pi\n",
        "# with 11 evenly spaced grid points over the whole interval. Compare this value\n",
        "# to the exact value of 2.\n",
        "\n",
        "import numpy as np\n",
        "a=0\n",
        "b = np.pi\n",
        "n = 11\n",
        "h = (b - a) / (n - 1)\n",
        "x = np.linspace(a, b, n)\n",
        "f = np.sin(x)\n",
        "\n",
        "I_trap = (h/2)*(f[0] + 2 * sum(f[1:n-1]) + f[n-1])\n",
        "err_trap = 2 - I_trap\n",
        "\n",
        "\n",
        "print(I_trap)\n",
        "print(err_trap)"
      ],
      "metadata": {
        "colab": {
          "base_uri": "https://localhost:8080/"
        },
        "id": "NzhjX8QLz5B1",
        "outputId": "4b8fad7d-6701-43cd-94f9-64e9031e904b"
      },
      "execution_count": 4,
      "outputs": [
        {
          "output_type": "stream",
          "name": "stdout",
          "text": [
            "1.9835235375094546\n",
            "0.01647646249054535\n"
          ]
        }
      ]
    }
  ]
}