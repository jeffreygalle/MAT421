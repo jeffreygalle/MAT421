{
  "nbformat": 4,
  "nbformat_minor": 0,
  "metadata": {
    "colab": {
      "provenance": [],
      "authorship_tag": "ABX9TyOeAqxid3Co1uOZ6j0Ckj6D",
      "include_colab_link": true
    },
    "kernelspec": {
      "name": "python3",
      "display_name": "Python 3"
    },
    "language_info": {
      "name": "python"
    }
  },
  "cells": [
    {
      "cell_type": "markdown",
      "metadata": {
        "id": "view-in-github",
        "colab_type": "text"
      },
      "source": [
        "<a href=\"https://colab.research.google.com/github/jeffreygalle/MAT421/blob/main/Homework1.ipynb\" target=\"_parent\"><img src=\"https://colab.research.google.com/assets/colab-badge.svg\" alt=\"Open In Colab\"/></a>"
      ]
    },
    {
      "cell_type": "markdown",
      "source": [
        "9.1: Base-N and Binary"
      ],
      "metadata": {
        "id": "CuIoAZbpjNEG"
      }
    },
    {
      "cell_type": "code",
      "execution_count": null,
      "metadata": {
        "id": "QE6LT8uljLZR"
      },
      "outputs": [],
      "source": [
        "9.1: Base-N and Binary"
      ]
    },
    {
      "cell_type": "code",
      "source": [
        "\"\"\"\n",
        "Write a function my_bin_2_dec(b) where b is binary number represented by a list\n",
        "of ones and zeros. The last element of b represents the coefficient of 2^0, the\n",
        "second-to-last element of b represents the coefficient of 2^1, and so on. The\n",
        "output variable, d, should be the decimal representation of b.\n",
        "\"\"\"\n",
        "def my_bin_2_dec(binaryVal):\n",
        "    decimalValue = 0\n",
        "    exponent = 0\n",
        "\n",
        "# Go through each bit in the binary number\n",
        "    for bit in binaryVal:\n",
        "        # Multiplied by 2 raised to the power of the current exponent\n",
        "        curBitValue = bit * (2 ** exponent)\n",
        "\n",
        "        decimalValue += curBitValue\n",
        "        # Increment exponent by 1 and move to next position in binary number\n",
        "        exponent = exponent + 1\n",
        "\n",
        "    return decimalValue\n",
        "\n",
        "print(my_bin_2_dec([1, 0, 1, 0]))\n",
        "\n",
        "\"\"\"\n",
        "Write a function my_dec_2_bin(d), where d is a positive integer in decimal, and\n",
        "b is the binary representation of d. The output b must be a list of ones and\n",
        "zeros, and the leading term must be a 1 unless the decimal input value is 0.\n",
        "\"\"\"\n",
        "def my_dec_2_bin(decimalVal):\n",
        "    # If the decimal is 0, return [0]\n",
        "    if decimalVal == 0:\n",
        "        return [0]\n",
        "\n",
        "    # Initialize empty list to store  binary\n",
        "    binaryNum = []\n",
        "\n",
        "    # Loop until the decimal value becomes 0\n",
        "    while decimalVal > 0:\n",
        "        # Calculate remainder when dividing by 2\n",
        "        remainder = decimalVal % 2\n",
        "\n",
        "        # Add remainder to the binary list\n",
        "        binaryNum.insert(0, remainder)\n",
        "\n",
        "        # Update the decimal value for the next iteration\n",
        "        decimalVal = decimalVal // 2\n",
        "    return binaryNum\n",
        "\n",
        "\n",
        "print(my_dec_2_bin(132))\n",
        "\"\"\"\n",
        "Base 6 to decimal converter function. Accepts a base 6 number of the form\n",
        "[4, 3, 2] and returns the decimal value.\n",
        "\"\"\"\n",
        "def my_base_6_2_dec(base6Val):\n",
        "    decimalValue = 0\n",
        "    exponent = len(base6Val) - 1\n",
        "\n",
        "    for digit in base6Val:\n",
        "        # Ex. (12)6 = (1 x 6^1) + [next iteration.. (2 x 6^0)]\n",
        "        decimalValue += int(digit) * (6 ** exponent)\n",
        "\n",
        "        # Decrement exponent by 1 and move to next position in base 6 number\n",
        "        exponent = exponent - 1\n",
        "\n",
        "    return decimalValue\n",
        "\n",
        "print(my_base_6_2_dec([4, 3, 2]))\n",
        "\n"
      ],
      "metadata": {
        "colab": {
          "base_uri": "https://localhost:8080/"
        },
        "id": "qbpY_rGBjaE7",
        "outputId": "e57c7ca4-d708-4f33-d6f8-51c6c447eb23"
      },
      "execution_count": 1,
      "outputs": [
        {
          "output_type": "stream",
          "name": "stdout",
          "text": [
            "5\n",
            "[1, 0, 0, 0, 0, 1, 0, 0]\n",
            "164\n"
          ]
        }
      ]
    },
    {
      "cell_type": "markdown",
      "source": [
        "9.2: Floating Point Numbers"
      ],
      "metadata": {
        "id": "nY6GZPoFjlSI"
      }
    },
    {
      "cell_type": "code",
      "source": [
        "\n",
        "\"\"\"\n",
        "Write a function my_ieee_2_dec(ieee), where ieee is a string contains 64\n",
        "characters of ones and zeros representing a 64-bit IEEE754 number. The output\n",
        "should be d, the equivalent decimal representation of ieee. The input variable\n",
        "ieee will always be a 64-element string of ones and zeros defining a 64-bit\n",
        "float.\n",
        "\"\"\"\n",
        "def my_ieee_2_dec(ieee):\n",
        "\n",
        "    # The first bit represents the sign of the number\n",
        "    signBit = int(ieee[0])\n",
        "    # The bits 1 to 11 is a substring represent the exponent\n",
        "    exponentBits = ieee[1:12]\n",
        "    # The bits 12 to 64 represent the fraction\n",
        "    fraction_bits = ieee[12:64]\n",
        "\n",
        "    # Calculate the sign, exponent, and fraction\n",
        "    # Sign is negative if sign bit is 1, positive if 0\n",
        "    sign = (-1) ** signBit\n",
        "    # Converting binary to an integer and subtract 1023\n",
        "    exponent = int(exponentBits, 2) - 1023\n",
        "\n",
        "    fraction = 0\n",
        "    power = 1\n",
        "    for bit in fraction_bits:\n",
        "      contribution = int(bit) * 2 ** -power\n",
        "      fraction = fraction + contribution\n",
        "      power = power + 1\n",
        "      # Calculate the decimal value\n",
        "      decimalValue = sign * (1 + fraction) * 2 ** exponent\n",
        "\n",
        "    return decimalValue\n",
        "\n",
        "ieee = '1100000001001000000000000000000000000000000000000000000000000000'\n",
        "print(my_ieee_2_dec(ieee))\n",
        "\n",
        "import sys\n",
        "\"\"\"\n",
        "The maximum representable positive floating number multiplied by 2 might result\n",
        "in overflow, and the value is shown as \"inf\".\n",
        "\"\"\"\n",
        "\n",
        "max_float = sys.float_info.max\n",
        "overflowed_value = max_float * 2\n",
        "\n",
        "print(max_float)\n",
        "print(overflowed_value)\n",
        "\n"
      ],
      "metadata": {
        "colab": {
          "base_uri": "https://localhost:8080/"
        },
        "id": "ycVYfAA5jpcy",
        "outputId": "68a4fe69-fad9-4bc8-cedf-86e4fd33c96d"
      },
      "execution_count": 2,
      "outputs": [
        {
          "output_type": "stream",
          "name": "stdout",
          "text": [
            "-48.0\n",
            "1.7976931348623157e+308\n",
            "inf\n"
          ]
        }
      ]
    },
    {
      "cell_type": "markdown",
      "source": [
        "9.3 Round off Errors"
      ],
      "metadata": {
        "id": "HfOJ1DRrju2E"
      }
    },
    {
      "cell_type": "code",
      "source": [
        "# Example of associative round off error\n",
        "a = 1.0\n",
        "b = 1e-16\n",
        "c = -1.0\n",
        "\n",
        "result1 = (a + b) + c\n",
        "result2 = a + (b + c)\n",
        "\n",
        "print(result1 == result2)\n",
        "\n",
        "# Example of accumulation of rounding erors\n",
        "total = 0.0\n",
        "\n",
        "for bit in range(10):\n",
        "    total = total + 0.1\n",
        "\n",
        "# Expected result is 1.\n",
        "print(total)\n",
        "\n",
        "# Example of comparing floating point numbers\n",
        "x = 0.1 + 0.2\n",
        "y = 0.3\n",
        "\n",
        "print(x == y)\n",
        "\n"
      ],
      "metadata": {
        "colab": {
          "base_uri": "https://localhost:8080/"
        },
        "id": "2qi2QzzKj-6d",
        "outputId": "ff7685f4-a7e8-491d-de53-22653e3894f8"
      },
      "execution_count": 3,
      "outputs": [
        {
          "output_type": "stream",
          "name": "stdout",
          "text": [
            "False\n",
            "0.9999999999999999\n",
            "False\n"
          ]
        }
      ]
    }
  ]
}